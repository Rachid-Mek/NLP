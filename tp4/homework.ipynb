{
 "cells": [
  {
   "cell_type": "markdown",
   "metadata": {},
   "source": [
    "# **IMPORT LIBRARIES**"
   ]
  },
  {
   "cell_type": "code",
   "execution_count": 20,
   "metadata": {},
   "outputs": [],
   "source": [
    "import random\n",
    "import spacy\n",
    "from spacy.training.example import Example\n",
    "import pandas as pd"
   ]
  },
  {
   "cell_type": "markdown",
   "metadata": {},
   "source": [
    "# **TRAINING OUR PARSER**"
   ]
  },
  {
   "cell_type": "code",
   "execution_count": 21,
   "metadata": {},
   "outputs": [],
   "source": [
    "nlp = spacy.blank(\"en\")\n",
    "\n",
    "# Add the custom component to the pipeline\n",
    "parser = nlp.add_pipe(\"parser\")\n",
    "\n",
    "TRAIN_DATA = [\n",
    "    (\"Find a cafe with few people\", {\"heads\": [0, 2, 0, 5, 5, 2], \"deps\": [\"ROOT\", \"-\", \"PLACE\", \"-\", \"QUANTITY\", \"ATTRIBUTE\"]}),\n",
    "    (\"Find a hotel with many rooms near the beach\", {\"heads\": [0, 2, 0, 5, 5, 2, 7, 7, 7], \"deps\": [\"ROOT\", \"-\", \"PLACE\",\"-\",\"QUANTITY\",\"ATTRIBUTE\", \"-\", \"-\", \"LOCATION\"]}),\n",
    "    (\"I need a room with enough space\", {\"heads\": [1, 1, 3, 1, 6, 6, 3], \"deps\": [\"-\", \"ROOT\", \"-\", \"PLACE\", \"-\", \"QUANTITY\", \"ATTRIBUTE\"]}),\n",
    "    \n",
    "    (\"Show me the store that sells some unique products\", {\"heads\": [0, 0, 3, 0, 3, 3, 8, 8, 3], \"deps\": [\"ROOT\", \"-\", \"-\", \"PLACE\", \"-\", \"-\", \"QUANTITY\", \"-\", \"ATTRIBUTE\"]}),\n",
    "    (\"Find a restaurant with all the menu items\", {\"heads\": [0, 2, 0, 6, 7, 6, 7, 2], \"deps\": [\"ROOT\", \"-\", \"PLACE\", \"-\", \"QUANTITY\", \"-\", \"PRODUCT\", \"ATTRIBUTE\"]}),\n",
    "    (\"Show me the hostel with half the rooms decorated\" , {\"heads\": [0, 0, 3, 0, 5, 7, 7, 3, 7], \"deps\": [\"ROOT\", \"-\", \"-\", \"PLACE\", \"-\", \"QUANTITY\", \"-\", \"ATTRIBUTE\", \"-\"]}),\n",
    "    \n",
    "    (\"Find a restaurant with whole cakes\", {\"heads\": [0, 2, 0, 5, 5, 2], \"deps\": [\"ROOT\", \"-\", \"PLACE\", \"-\", \"QUANTITY\", \"ATTRIBUTE\"]}),\n",
    "    (\"Show me the shop with enough supplies\", {\"heads\": [0, 0, 3, 0, 6, 6, 3], \"deps\": [\"ROOT\", \"-\", \"-\", \"PLACE\", \"-\", \"QUANTITY\", \"ATTRIBUTE\"]}),\n",
    "    (\"Visit a library with numerous books\", {\"heads\": [0, 2, 0, 5, 5, 2], \"deps\": [\"ROOT\", \"-\", \"PLACE\", \"-\", \"QUANTITY\", \"ATTRIBUTE\"]}),\n",
    "]\n",
    "\n",
    "\n",
    "\n",
    "for text, annotations in TRAIN_DATA:\n",
    "    for dep in annotations.get('deps', []):\n",
    "        parser.add_label(dep)\n",
    "\n",
    "n_iter = 25\n",
    "\n",
    "# Training loop with multiple iterations\n",
    "optimizer = nlp.begin_training()\n",
    "for iteration in range(n_iter):\n",
    "    # Shuffle the training data\n",
    "    random.shuffle(TRAIN_DATA)\n",
    "    losses = {}\n",
    "\n",
    "    for text, annotations in TRAIN_DATA:\n",
    "        # Create an Example object\n",
    "        doc = nlp.make_doc(text)\n",
    "        example = Example.from_dict(doc, annotations)\n",
    "        # Update the model\n",
    "        nlp.update([example],drop=0.25,losses=losses)"
   ]
  },
  {
   "cell_type": "markdown",
   "metadata": {},
   "source": [
    "# **TESTING THE MODEL**"
   ]
  },
  {
   "cell_type": "code",
   "execution_count": 22,
   "metadata": {},
   "outputs": [
    {
     "name": "stdout",
     "output_type": "stream",
     "text": [
      "    text       dep   head\n",
      "0   find      ROOT   find\n",
      "1  hotel   PRODUCT  rooms\n",
      "2   many  QUANTITY  rooms\n",
      "3  rooms     PLACE   find\n",
      "4    the      ROOT    the\n",
      "5  beach  LOCATION    the\n",
      "\n",
      "      text        dep     head\n",
      "0     show       ROOT     show\n",
      "1  closest      PLACE     show\n",
      "2     that  ATTRIBUTE  closest\n",
      "3       's  ATTRIBUTE  closest\n",
      "4     late      PLACE       's\n",
      "5   enough   QUANTITY    space\n",
      "6    space  ATTRIBUTE     late\n",
      "\n",
      "       text        dep      head\n",
      "0      show       ROOT      show\n",
      "1     store      PLACE      show\n",
      "2      some   QUANTITY  products\n",
      "3  products  ATTRIBUTE     store\n",
      "\n",
      "         text        dep        head\n",
      "0        find       ROOT        find\n",
      "1  restaurant      PLACE        find\n",
      "2        with        dep       items\n",
      "3         all   QUANTITY        menu\n",
      "4        menu    PRODUCT       items\n",
      "5       items  ATTRIBUTE  restaurant\n",
      "\n",
      "     text        dep    head\n",
      "0    show       ROOT    show\n",
      "1  hostel      PLACE    show\n",
      "2    half   QUANTITY   rooms\n",
      "3   rooms  ATTRIBUTE  hostel\n",
      "\n",
      "         text        dep        head\n",
      "0        find       ROOT        find\n",
      "1  restaurant      PLACE        find\n",
      "2       whole   QUANTITY       cakes\n",
      "3       cakes  ATTRIBUTE  restaurant\n",
      "\n",
      "       text        dep      head\n",
      "0      show       ROOT      show\n",
      "1      shop      PLACE      show\n",
      "2    enough   QUANTITY  supplies\n",
      "3  supplies  ATTRIBUTE      shop\n",
      "4      work  ATTRIBUTE      shop\n",
      "\n",
      "       text        dep     head\n",
      "0     visit       ROOT    visit\n",
      "1   library      PLACE    visit\n",
      "2  numerous   QUANTITY    books\n",
      "3     books  ATTRIBUTE  library\n",
      "\n"
     ]
    }
   ],
   "source": [
    "# After training, you can test the model\n",
    "tests = [\n",
    "    \"find a hotel with many rooms near the beach\",\n",
    "    \"show me the closest gym that's open late with enough space\",\n",
    "    \"show me the store that sells some unique products\",\n",
    "    \"find a restaurant with all the menu items\",\n",
    "    \"show me the hostel with half the rooms decorated\",\n",
    "    \"find a restaurant with whole cakes\",\n",
    "    \"show me the shop with enough supplies near work\",\n",
    "    \"visit a library with numerous books\",\n",
    "]\n",
    "\n",
    "docs = nlp.pipe(tests)\n",
    "for doc in docs:\n",
    "    df = pd.DataFrame([(t.text, t.dep_, t.head.text) for t in doc if t.dep_ != \"-\"], columns=['text', 'dep', 'head'])\n",
    "    print(df)\n",
    "    print()"
   ]
  }
 ],
 "metadata": {
  "kernelspec": {
   "display_name": "Python 3",
   "language": "python",
   "name": "python3"
  },
  "language_info": {
   "codemirror_mode": {
    "name": "ipython",
    "version": 3
   },
   "file_extension": ".py",
   "mimetype": "text/x-python",
   "name": "python",
   "nbconvert_exporter": "python",
   "pygments_lexer": "ipython3",
   "version": "3.11.1"
  }
 },
 "nbformat": 4,
 "nbformat_minor": 2
}
