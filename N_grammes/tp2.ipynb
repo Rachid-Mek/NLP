{
 "cells": [
  {
   "cell_type": "code",
   "execution_count": 7,
   "metadata": {},
   "outputs": [],
   "source": [
    "import spacy\n",
    "from gensim import corpora , models\n",
    "import gensim"
   ]
  },
  {
   "cell_type": "code",
   "execution_count": 8,
   "metadata": {},
   "outputs": [
    {
     "name": "stdout",
     "output_type": "stream",
     "text": [
      "[['football', 'club', 'Arsenal', 'defeat', 'local', 'rival', 'weekend'], ['weekend', 'football', 'frenzy', 'take', 'London'], ['bank', 'open', 'takeover', 'bid', 'lose', 'million'], ['London', 'football', 'club', 'bid', 'Wembley', 'stadium'], ['arsenal', 'bid', 'pound', 'striker', 'Kane'], ['financial', 'trouble', 'result', 'loss', 'million', 'bank'], ['western', 'bank', 'file', 'bankruptcy', 'financial', 'loss'], ['London', 'football', 'club', 'take', 'oil', 'millionaire', 'Russia'], ['banking', 'finance', 'work', 'Russia']]\n"
     ]
    }
   ],
   "source": [
    "nlp = spacy.load(\"en_core_web_sm\")\n",
    "documents = [u\"Football club Arsenal defeat local rivals this weekend.\",\n",
    "u\"Weekend football frenzy takes over London.\", \n",
    "u\"Bank open for takeover bids after losing millions.\", \n",
    "u\"London football clubs bid to move to Wembley stadium.\", \n",
    "u\"Arsenal bid 50 million pounds for striker Kane.\",\n",
    "u\"Financial troubles result in loss of millions for bank.\", \n",
    "u\"Western bank files for bankruptcy after financial losses.\", \n",
    "u\"London football club is taken over by oil millionaire from Russia.\", \n",
    "u\"Banking on finances not working for Russia.\"]\n",
    "texts = []\n",
    "for document in documents:\n",
    "    text = []\n",
    "    doc = nlp(document)\n",
    "    for w in doc:\n",
    "        if not w.is_stop and not w.is_punct and not w.like_num:\n",
    "            text.append(w.lemma_)\n",
    "    texts.append(text)\n",
    "print(texts)"
   ]
  },
  {
   "cell_type": "code",
   "execution_count": 14,
   "metadata": {},
   "outputs": [
    {
     "name": "stdout",
     "output_type": "stream",
     "text": [
      "[(0, 0.4538520228951382), (1, 0.2269260114475691), (2, 0.4538520228951382), (3, 0.16750327793200118), (4, 0.4538520228951382), (5, 0.4538520228951382), (6, 0.3106776504135697)]\n",
      "[(3, 0.24212967666975266), (6, 0.4490913847888623), (7, 0.32802654645398593), (8, 0.6560530929079719), (9, 0.4490913847888623)]\n",
      "[(10, 0.25098743403237606), (11, 0.25098743403237606), (12, 0.5019748680647521), (13, 0.3436194281611727), (14, 0.5019748680647521), (15, 0.5019748680647521)]\n",
      "[(1, 0.29431054749542984), (3, 0.21724253258131512), (7, 0.29431054749542984), (11, 0.29431054749542984), (16, 0.5886210949908597), (17, 0.5886210949908597)]\n",
      "[(11, 0.24253562503633297), (18, 0.48507125007266594), (19, 0.48507125007266594), (20, 0.48507125007266594), (21, 0.48507125007266594)]\n",
      "[(10, 0.2615055248879333), (13, 0.35801943340074827), (22, 0.35801943340074827), (23, 0.35801943340074827), (24, 0.5230110497758667), (25, 0.5230110497758667)]\n",
      "[(10, 0.24434832234965204), (22, 0.33453001789363906), (23, 0.33453001789363906), (26, 0.4886966446993041), (27, 0.4886966446993041), (28, 0.4886966446993041)]\n",
      "[(1, 0.2645025265769199), (3, 0.1952400253294319), (7, 0.2645025265769199), (9, 0.3621225392416359), (29, 0.3621225392416359), (30, 0.5290050531538398), (31, 0.5290050531538398)]\n",
      "[(29, 0.3675524795645158), (32, 0.5369373566087501), (33, 0.5369373566087501), (34, 0.5369373566087501)]\n",
      "Bigrams:\n",
      "['football', 'club', 'Arsenal', 'defeat', 'local', 'rival', 'weekend']\n",
      "['weekend', 'football', 'frenzy', 'take', 'London']\n",
      "['bank', 'open', 'takeover', 'bid', 'lose', 'million']\n",
      "['London', 'football', 'club', 'bid', 'Wembley', 'stadium']\n",
      "['arsenal', 'bid', 'pound', 'striker', 'Kane']\n",
      "['financial', 'trouble', 'result', 'loss', 'million', 'bank']\n",
      "['western', 'bank', 'file', 'bankruptcy', 'financial', 'loss']\n",
      "['London', 'football', 'club', 'take', 'oil', 'millionaire', 'Russia']\n",
      "['banking', 'finance', 'work', 'Russia']\n"
     ]
    }
   ],
   "source": [
    "dictionary = corpora.Dictionary(texts)\n",
    "# print(dictionary.token2id)\n",
    "corpus = [dictionary.doc2bow(text) for text in texts]\n",
    "#TF-IDF\n",
    "tfidf = models.TfidfModel(corpus)\n",
    "for document in tfidf[corpus]:\n",
    "    print(document)\n",
    "bigram = gensim.models.Phrases(texts)\n",
    "texts = [bigram[line] for line in texts]\n",
    "dictionary = corpora.Dictionary(texts)\n",
    "corpus = [dictionary.doc2bow(text) for text in texts]\n"
   ]
  }
 ],
 "metadata": {
  "kernelspec": {
   "display_name": "Python 3",
   "language": "python",
   "name": "python3"
  },
  "language_info": {
   "codemirror_mode": {
    "name": "ipython",
    "version": 3
   },
   "file_extension": ".py",
   "mimetype": "text/x-python",
   "name": "python",
   "nbconvert_exporter": "python",
   "pygments_lexer": "ipython3",
   "version": "3.11.1"
  }
 },
 "nbformat": 4,
 "nbformat_minor": 2
}
