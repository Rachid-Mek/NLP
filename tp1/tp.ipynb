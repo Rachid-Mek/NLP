{
 "cells": [
  {
   "cell_type": "code",
   "execution_count": 1,
   "metadata": {},
   "outputs": [],
   "source": [
    "import spacy \n",
    "import string\n",
    "from nltk.stem.porter import PorterStemmer"
   ]
  },
  {
   "cell_type": "code",
   "execution_count": 2,
   "metadata": {},
   "outputs": [
    {
     "data": {
      "text/plain": [
       "'Washington, DC CNN\\n\\nHome sales dropped in September to the lowest level in 13 years as surging interest rates and climbing home prices made buying a home unattainable for a growing share of would-be buyers.\\n\\nHistorically low inventory of homes for sale continued to push prices up and rates that crossed over 7% in August put a damper on sales, according to a monthly report from the National Association of Realtors.\\n\\nThe median price for existing homes — which include single-family homes, townhomes, condominiums and co-ops — was $394,300 last month. That was up 2.8% from a year ago and marked the third consecutive month of year-over-year price increases, setting a record high price for homes in September. Prices rose in all four regions of the country, the Northeast, Midwest, South and the West, the NAR report found.\\n\\n“For the third straight month, home prices are up from a year ago, confirming the pressing need for more housing supply,” Lawrence Yun, NAR chief economist said.\\n\\nA sign outside a home for sale in Atlanta, Georgia, US, on Wednesday, Sept. 6, 2023. \\nAdjustable-rate mortgages are making a comeback\\nLow inventory and high prices contributed to sales of existing homes dropping 2% from August to September to a seasonally adjusted annual rate of 3.96 million units, just beating analysts’ expectations.\\n\\nAnnually, September sales were down 15.4% from a year ago when the sales pace was 4.68 million units.\\n\\n“As has been the case throughout this year, limited inventory and low housing affordability continue to hamper home sales,” said Yun. “The Federal Reserve simply cannot keep raising interest rates in light of softening inflation and weakening job gains.”\\n\\nWith the Fed indicating its benchmark rate will stay “higher for longer,” and mortgage rates staying higher as well, analysts expect more monthly drops in home sales through the rest of the year.\\n\\n“We thought at the beginning of the year that sales would be down 10% or 15% for the year,” said Yun. “It will be more like a 20% from last year.”'"
      ]
     },
     "execution_count": 2,
     "metadata": {},
     "output_type": "execute_result"
    }
   ],
   "source": [
    "def get_text(file_name):\n",
    "    \"\"\"Reads a text file and returns the text as a string.\"\"\"\n",
    "    with open(file_name , \"r\",encoding=\"utf-8\") as f:\n",
    "        return f.read().strip()\n",
    "\n",
    "get_text('doc.txt')"
   ]
  },
  {
   "cell_type": "code",
   "execution_count": 3,
   "metadata": {},
   "outputs": [],
   "source": [
    "def output_txt(file_name, text):\n",
    "    \"\"\"Writes the text to a file.\"\"\"\n",
    "    with open(file_name, \"w\",encoding=\"utf-8\") as f:\n",
    "        f.write(text)"
   ]
  },
  {
   "cell_type": "code",
   "execution_count": 4,
   "metadata": {},
   "outputs": [],
   "source": [
    "def clean_text(input_file, output_file):\n",
    "    # Load the spaCy model for English\n",
    "    nlp = spacy.load(\"en_core_web_sm\")\n",
    "    text = get_text(input_file)\n",
    "\n",
    "    # Convert the text to lowercase\n",
    "    text = text.lower()\n",
    "\n",
    "    # Process the lowercase text using spaCy\n",
    "    doc = nlp(text)\n",
    "\n",
    "    # Extract non-stop words, non-punctuation tokens, and lemmatized forms\n",
    "    cleaned_text = \" \".join(token.lemma_ for token in doc if not token.is_stop and token.text not in string.punctuation)\n",
    "\n",
    "    # Removal of frequent words from the text\n",
    "    word_count = cleaned_text.split()\n",
    "    freq_words = ([word for word in word_count if word_count.count(word) > 8])\n",
    "    cleaned_text = \" \".join(word for word in cleaned_text.split() if word not in freq_words)\n",
    "\n",
    "    # Removal of rare words\n",
    "    word_count = cleaned_text.split()\n",
    "    rare_words = ([word for word in word_count if word_count.count(word) == 1])\n",
    "    cleaned_text = \" \".join(word for word in cleaned_text.split() if word not in rare_words)\n",
    "\n",
    "    # #stemming of words\n",
    "    stemmer = PorterStemmer()\n",
    "    cleaned_text = \" \".join(stemmer.stem(word) for word in cleaned_text.split())\n",
    "\n",
    "    # Save the cleaned and lemmatized text to the output file\n",
    "    output_txt(output_file, cleaned_text)"
   ]
  },
  {
   "cell_type": "code",
   "execution_count": 5,
   "metadata": {},
   "outputs": [],
   "source": [
    "input_file = \"doc.txt\"\n",
    "output_file = \"doc_cleaned.txt\"\n",
    "clean_text(input_file, output_file)"
   ]
  }
 ],
 "metadata": {
  "kernelspec": {
   "display_name": "Python 3",
   "language": "python",
   "name": "python3"
  },
  "language_info": {
   "codemirror_mode": {
    "name": "ipython",
    "version": 3
   },
   "file_extension": ".py",
   "mimetype": "text/x-python",
   "name": "python",
   "nbconvert_exporter": "python",
   "pygments_lexer": "ipython3",
   "version": "3.11.1"
  }
 },
 "nbformat": 4,
 "nbformat_minor": 2
}
