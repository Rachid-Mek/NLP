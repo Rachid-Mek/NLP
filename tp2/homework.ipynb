{
 "cells": [
  {
   "cell_type": "code",
   "execution_count": 18,
   "metadata": {},
   "outputs": [
    {
     "name": "stderr",
     "output_type": "stream",
     "text": [
      "[nltk_data] Downloading package reuters to\n",
      "[nltk_data]     C:\\Users\\rachi\\AppData\\Roaming\\nltk_data...\n",
      "[nltk_data]   Package reuters is already up-to-date!\n"
     ]
    },
    {
     "data": {
      "text/plain": [
       "True"
      ]
     },
     "execution_count": 18,
     "metadata": {},
     "output_type": "execute_result"
    }
   ],
   "source": [
    "import gensim\n",
    "from gensim import corpora\n",
    "from gensim.models import TfidfModel, Phrases\n",
    "import nltk\n",
    "from nltk.corpus import reuters\n",
    "import spacy\n",
    "\n",
    "nltk.download('reuters')"
   ]
  },
  {
   "cell_type": "code",
   "execution_count": 37,
   "metadata": {},
   "outputs": [
    {
     "name": "stdout",
     "output_type": "stream",
     "text": [
      "Bigrams:\n",
      "['u_s', 'INDUSTRIAL_CAPACITY', 'USE_RATE', '81_2', 'PCT_SEPTEMBER', 'UNCHANGED_AUGUST']\n",
      "['u_s', 'INDUSTRIAL_CAPACITY', 'USE_RATE', '81_2', 'PCT_SEPTEMBER', 'UNCHANGED_AUGUST']\n",
      "['CANADA', 'MANUFACTURING', 'UTILIZATION', 'rate', 'rise', 'utilization', 'canadian', 'manufacturing', 'capacity', 'rise', '77', '2_pct', 'fourth', 'quarter', '1986', '77', 'pct', 'quarter', 'Statistics', 'Canada', 'say']\n",
      "['change', 'small', 'mark', 'quarter', 'quarter', '1985', 'utilization', 'rate', 'manufacturing', 'rise', 'federal', 'agency', 'say']\n",
      "['increase', 'residential', 'construction', 'lead', 'strong', 'increase', 'building', 'material', 'sector', 'lead', '3', '3_pct', 'increase', 'non', 'metallic', 'mineral', 'industry']\n",
      "['u_s', 'INDUSTRIAL_CAPACITY', 'USE_RATE', 'ROSE_79', '8_PCT', 'FEB_79', '6_PCT', 'JAN']\n",
      "['u_s', 'INDUSTRIAL_CAPACITY', 'USE_RATE', 'ROSE_79', '8_PCT', 'FEB_79', '6_PCT', 'JAN']\n",
      "\n",
      "Trigrams:\n",
      "['u_s_INDUSTRIAL_CAPACITY', 'USE_RATE_81_2', 'PCT_SEPTEMBER_UNCHANGED_AUGUST']\n",
      "['u_s_INDUSTRIAL_CAPACITY', 'USE_RATE_81_2', 'PCT_SEPTEMBER_UNCHANGED_AUGUST']\n",
      "['CANADA', 'MANUFACTURING', 'UTILIZATION', 'rate', 'rise', 'utilization', 'canadian', 'manufacturing', 'capacity', 'rise', '77', '2_pct', 'fourth', 'quarter', '1986', '77', 'pct', 'quarter', 'Statistics', 'Canada', 'say']\n",
      "['change', 'small', 'mark', 'quarter', 'quarter', '1985', 'utilization', 'rate', 'manufacturing', 'rise', 'federal', 'agency', 'say']\n",
      "['increase', 'residential', 'construction', 'lead', 'strong', 'increase', 'building', 'material', 'sector', 'lead', '3', '3_pct', 'increase', 'non', 'metallic', 'mineral', 'industry']\n",
      "['u_s_INDUSTRIAL_CAPACITY', 'USE_RATE_ROSE_79', '8_PCT_FEB_79', '6_PCT_JAN']\n",
      "['u_s_INDUSTRIAL_CAPACITY', 'USE_RATE_ROSE_79', '8_PCT_FEB_79', '6_PCT_JAN']\n"
     ]
    }
   ],
   "source": [
    "nlp = spacy.load(\"en_core_web_sm\")\n",
    "corpus = reuters.sents(categories=[\"cpu\"])\n",
    "\n",
    "# Convert the corpus to a list of sentences\n",
    "example_text = [\" \".join(sent) for sent in corpus]\n",
    "\n",
    "texts = []\n",
    "for document in example_text:\n",
    "    doc = nlp(document)\n",
    "    text = [token.lemma_ for token in doc if not token.is_stop and not token.is_punct]\n",
    "    texts.append(text)\n",
    "\n",
    "dictionary = corpora.Dictionary(texts)\n",
    "corpus_bow = [dictionary.doc2bow(text) for text in texts]\n",
    "\n",
    "# Create a TF-IDF model\n",
    "tfidf_model = TfidfModel(corpus_bow)\n",
    "corpus_tfidf = tfidf_model[corpus_bow]\n",
    "\n",
    "bigram = Phrases(texts, min_count=1, threshold=1)\n",
    "texts_with_bigrams = [bigram[line] for line in texts]\n",
    "\n",
    "trigram = Phrases(texts_with_bigrams, min_count=1, threshold=1)\n",
    "texts_with_trigrams = [trigram[line] for line in texts_with_bigrams]\n",
    "\n",
    "print(\"Bigrams:\")\n",
    "for text in texts_with_bigrams[:7]:\n",
    "    print(text)\n",
    "\n",
    "print(\"\\nTrigrams:\")\n",
    "for text in texts_with_trigrams[:7]:\n",
    "    print(text)"
   ]
  },
  {
   "cell_type": "code",
   "execution_count": 20,
   "metadata": {},
   "outputs": [
    {
     "name": "stdout",
     "output_type": "stream",
     "text": [
      "['acq', 'alum', 'barley', 'bop', 'carcass', 'castor-oil', 'cocoa', 'coconut', 'coconut-oil', 'coffee', 'copper', 'copra-cake', 'corn', 'cotton', 'cotton-oil', 'cpi', 'cpu', 'crude', 'dfl', 'dlr', 'dmk', 'earn', 'foorball', 'football', 'fuel', 'gas', 'gnp', 'gold', 'grain', 'groundnut', 'groundnut-oil', 'heat', 'hog', 'housing', 'income', 'instal-debt', 'interest', 'ipi', 'iron-steel', 'jet', 'jobs', 'l-cattle', 'lead', 'lei', 'lin-oil', 'livestock', 'lumber', 'meal-feed', 'money-fx', 'money-supply', 'naphtha', 'nat-gas', 'nickel', 'nkr', 'nzdlr', 'oat', 'oilseed', 'orange', 'palladium', 'palm-oil', 'palmkernel', 'pet-chem', 'platinum', 'potato', 'propane', 'rand', 'rape-oil', 'rapeseed', 'reserves', 'retail', 'rice', 'rubber', 'rye', 'ship', 'silver', 'sorghum', 'soy-meal', 'soy-oil', 'soybean', 'sport', 'strategic-metal', 'sugar', 'sun-meal', 'sun-oil', 'sunseed', 'tea', 'tin', 'trade', 'veg-oil', 'wheat', 'wpi', 'yen', 'zinc']\n"
     ]
    }
   ],
   "source": [
    "categories = reuters.categories()\n",
    "print(categories)"
   ]
  }
 ],
 "metadata": {
  "kernelspec": {
   "display_name": "Python 3",
   "language": "python",
   "name": "python3"
  },
  "language_info": {
   "codemirror_mode": {
    "name": "ipython",
    "version": 3
   },
   "file_extension": ".py",
   "mimetype": "text/x-python",
   "name": "python",
   "nbconvert_exporter": "python",
   "pygments_lexer": "ipython3",
   "version": "3.11.1"
  }
 },
 "nbformat": 4,
 "nbformat_minor": 2
}
